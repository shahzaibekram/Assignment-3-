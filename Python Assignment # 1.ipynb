{
 "cells": [
  {
   "cell_type": "code",
   "execution_count": 1,
   "id": "5e2c2d55",
   "metadata": {},
   "outputs": [],
   "source": [
    "#Write a python program to print Twinkle Twinkle little star poem."
   ]
  },
  {
   "cell_type": "code",
   "execution_count": 8,
   "id": "cd9204c7",
   "metadata": {
    "collapsed": true
   },
   "outputs": [
    {
     "name": "stdout",
     "output_type": "stream",
     "text": [
      "Twinkle, twinkle, little star,\n",
      " \t How I wonder what you are!\n",
      " \t\t Up above the world so high, Like a diamond in the sky.\n",
      " Twinkle, twinkle, little star, How I wonder what you are!\n"
     ]
    }
   ],
   "source": [
    "print(\"Twinkle, twinkle, little star,\\n \\t How I wonder what you are!\\n \\t\\t Up above the world so high, Like a diamond in the sky.\\n Twinkle, twinkle, little star, How I wonder what you are!\")"
   ]
  },
  {
   "cell_type": "code",
   "execution_count": null,
   "id": "f5e41ba0",
   "metadata": {},
   "outputs": [],
   "source": [
    "#Write a Python program to get the python version."
   ]
  },
  {
   "cell_type": "code",
   "execution_count": 12,
   "id": "56745551",
   "metadata": {},
   "outputs": [
    {
     "name": "stdout",
     "output_type": "stream",
     "text": [
      "3.9.7\n"
     ]
    }
   ],
   "source": [
    "import platform\n",
    "\n",
    "print(platform.python_version())"
   ]
  },
  {
   "cell_type": "code",
   "execution_count": null,
   "id": "2ceafabf",
   "metadata": {},
   "outputs": [],
   "source": [
    "#Write a Python program to display current date and time."
   ]
  },
  {
   "cell_type": "code",
   "execution_count": 13,
   "id": "f3a2bbec",
   "metadata": {},
   "outputs": [
    {
     "name": "stdout",
     "output_type": "stream",
     "text": [
      "2022-01-01 21:15:08\n"
     ]
    }
   ],
   "source": [
    "from datetime import datetime //packages\n",
    "\n",
    "now = datetime.now()\n",
    "print (now.strftime(\"%Y-%m-%d %H:%M:%S\"))"
   ]
  },
  {
   "cell_type": "code",
   "execution_count": null,
   "id": "83df5838",
   "metadata": {},
   "outputs": [],
   "source": [
    "#Write a program to ptint name in reverse order."
   ]
  },
  {
   "cell_type": "code",
   "execution_count": 16,
   "id": "f05bdeb6",
   "metadata": {},
   "outputs": [
    {
     "name": "stdout",
     "output_type": "stream",
     "text": [
      "markE biazhahS\n"
     ]
    }
   ],
   "source": [
    "name = \"Shahzaib Ekram\"[::-1]\n",
    "print(name)\n"
   ]
  },
  {
   "cell_type": "code",
   "execution_count": 17,
   "id": "35d2ccf7",
   "metadata": {},
   "outputs": [],
   "source": [
    "#Write a program to get input from user and add them."
   ]
  },
  {
   "cell_type": "code",
   "execution_count": 19,
   "id": "d6d17b18",
   "metadata": {},
   "outputs": [
    {
     "name": "stdout",
     "output_type": "stream",
     "text": [
      "Write first number2\n",
      "Write second number2\n",
      "4\n"
     ]
    }
   ],
   "source": [
    "a = int(input(\"Write first number\"))\n",
    "b = int(input(\"Write second number\"))\n",
    "print(a+b)"
   ]
  },
  {
   "cell_type": "code",
   "execution_count": null,
   "id": "35a8b012",
   "metadata": {},
   "outputs": [],
   "source": []
  }
 ],
 "metadata": {
  "kernelspec": {
   "display_name": "Python 3 (ipykernel)",
   "language": "python",
   "name": "python3"
  },
  "language_info": {
   "codemirror_mode": {
    "name": "ipython",
    "version": 3
   },
   "file_extension": ".py",
   "mimetype": "text/x-python",
   "name": "python",
   "nbconvert_exporter": "python",
   "pygments_lexer": "ipython3",
   "version": "3.9.7"
  }
 },
 "nbformat": 4,
 "nbformat_minor": 5
}
